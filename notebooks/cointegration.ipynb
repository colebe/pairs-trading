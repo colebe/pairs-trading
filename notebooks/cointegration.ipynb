{
 "cells": [
  {
   "cell_type": "markdown",
   "id": "3389bab8",
   "metadata": {},
   "source": [
    "# Setup"
   ]
  },
  {
   "cell_type": "markdown",
   "id": "b840f9cd",
   "metadata": {},
   "source": [
    "## Imports"
   ]
  },
  {
   "cell_type": "code",
   "execution_count": 3,
   "id": "ce268edc",
   "metadata": {},
   "outputs": [],
   "source": [
    "import pandas as pd\n",
    "import numpy as np\n",
    "import yfinance as yf\n",
    "import matplotlib.pyplot as plt"
   ]
  },
  {
   "cell_type": "markdown",
   "id": "bdbcf9b2",
   "metadata": {},
   "source": [
    "## Set Parameters\n",
    "\n",
    "NOTE: 1m data is only retrievable for the last 7 days, and any interval <1d is only for the last 60 days"
   ]
  },
  {
   "cell_type": "code",
   "execution_count": 20,
   "id": "dfdeb85f",
   "metadata": {},
   "outputs": [],
   "source": [
    "startDate = \"2025-6-23\"\n",
    "endDate = \"2025-6-26\"\n",
    "symbol1 = \"AAPL\"\n",
    "symbol2 = \"MSFT\"\n",
    "timeInterval = \"1m\""
   ]
  },
  {
   "cell_type": "markdown",
   "id": "50949c6f",
   "metadata": {},
   "source": [
    "## Setup Data"
   ]
  },
  {
   "cell_type": "code",
   "execution_count": 28,
   "id": "e22b9d4b",
   "metadata": {},
   "outputs": [
    {
     "name": "stderr",
     "output_type": "stream",
     "text": [
      "[*********************100%***********************]  2 of 2 completed\n"
     ]
    },
    {
     "data": {
      "text/html": [
       "<div>\n",
       "<style scoped>\n",
       "    .dataframe tbody tr th:only-of-type {\n",
       "        vertical-align: middle;\n",
       "    }\n",
       "\n",
       "    .dataframe tbody tr th {\n",
       "        vertical-align: top;\n",
       "    }\n",
       "\n",
       "    .dataframe thead th {\n",
       "        text-align: right;\n",
       "    }\n",
       "</style>\n",
       "<table border=\"1\" class=\"dataframe\">\n",
       "  <thead>\n",
       "    <tr style=\"text-align: right;\">\n",
       "      <th>Ticker</th>\n",
       "      <th>AAPL</th>\n",
       "      <th>MSFT</th>\n",
       "    </tr>\n",
       "    <tr>\n",
       "      <th>Datetime</th>\n",
       "      <th></th>\n",
       "      <th></th>\n",
       "    </tr>\n",
       "  </thead>\n",
       "  <tbody>\n",
       "    <tr>\n",
       "      <th>2025-06-23 13:30:00+00:00</th>\n",
       "      <td>201.343002</td>\n",
       "      <td>474.859985</td>\n",
       "    </tr>\n",
       "    <tr>\n",
       "      <th>2025-06-23 13:31:00+00:00</th>\n",
       "      <td>200.789993</td>\n",
       "      <td>474.193115</td>\n",
       "    </tr>\n",
       "    <tr>\n",
       "      <th>2025-06-23 13:32:00+00:00</th>\n",
       "      <td>200.649994</td>\n",
       "      <td>474.183990</td>\n",
       "    </tr>\n",
       "    <tr>\n",
       "      <th>2025-06-23 13:33:00+00:00</th>\n",
       "      <td>200.910004</td>\n",
       "      <td>473.584991</td>\n",
       "    </tr>\n",
       "    <tr>\n",
       "      <th>2025-06-23 13:34:00+00:00</th>\n",
       "      <td>200.279999</td>\n",
       "      <td>473.304993</td>\n",
       "    </tr>\n",
       "    <tr>\n",
       "      <th>...</th>\n",
       "      <td>...</td>\n",
       "      <td>...</td>\n",
       "    </tr>\n",
       "    <tr>\n",
       "      <th>2025-06-25 19:55:00+00:00</th>\n",
       "      <td>201.350006</td>\n",
       "      <td>491.989990</td>\n",
       "    </tr>\n",
       "    <tr>\n",
       "      <th>2025-06-25 19:56:00+00:00</th>\n",
       "      <td>201.318695</td>\n",
       "      <td>491.959991</td>\n",
       "    </tr>\n",
       "    <tr>\n",
       "      <th>2025-06-25 19:57:00+00:00</th>\n",
       "      <td>201.309296</td>\n",
       "      <td>491.890015</td>\n",
       "    </tr>\n",
       "    <tr>\n",
       "      <th>2025-06-25 19:58:00+00:00</th>\n",
       "      <td>201.475006</td>\n",
       "      <td>492.260010</td>\n",
       "    </tr>\n",
       "    <tr>\n",
       "      <th>2025-06-25 19:59:00+00:00</th>\n",
       "      <td>201.600006</td>\n",
       "      <td>492.440002</td>\n",
       "    </tr>\n",
       "  </tbody>\n",
       "</table>\n",
       "<p>1138 rows × 2 columns</p>\n",
       "</div>"
      ],
      "text/plain": [
       "Ticker                           AAPL        MSFT\n",
       "Datetime                                         \n",
       "2025-06-23 13:30:00+00:00  201.343002  474.859985\n",
       "2025-06-23 13:31:00+00:00  200.789993  474.193115\n",
       "2025-06-23 13:32:00+00:00  200.649994  474.183990\n",
       "2025-06-23 13:33:00+00:00  200.910004  473.584991\n",
       "2025-06-23 13:34:00+00:00  200.279999  473.304993\n",
       "...                               ...         ...\n",
       "2025-06-25 19:55:00+00:00  201.350006  491.989990\n",
       "2025-06-25 19:56:00+00:00  201.318695  491.959991\n",
       "2025-06-25 19:57:00+00:00  201.309296  491.890015\n",
       "2025-06-25 19:58:00+00:00  201.475006  492.260010\n",
       "2025-06-25 19:59:00+00:00  201.600006  492.440002\n",
       "\n",
       "[1138 rows x 2 columns]"
      ]
     },
     "execution_count": 28,
     "metadata": {},
     "output_type": "execute_result"
    }
   ],
   "source": [
    "# Download data for two stocks between specified dates with specified interval\n",
    "data = yf.download([symbol1, symbol2], start=startDate, end=endDate, interval=timeInterval, auto_adjust=True)\n",
    "# Get adjusted close prices\n",
    "close = data[\"Close\"].dropna()\n",
    "close"
   ]
  },
  {
   "cell_type": "markdown",
   "id": "ae40f323",
   "metadata": {},
   "source": [
    "# Engle-Granger Test"
   ]
  },
  {
   "cell_type": "markdown",
   "id": "94adf388",
   "metadata": {},
   "source": [
    "## Imports"
   ]
  },
  {
   "cell_type": "code",
   "execution_count": 22,
   "id": "3f3ab1e9",
   "metadata": {},
   "outputs": [],
   "source": [
    "from statsmodels.tsa.stattools import adfuller"
   ]
  },
  {
   "cell_type": "markdown",
   "id": "0a5494ac",
   "metadata": {},
   "source": [
    "## Create Least Squares Linear Model and Get Residuals"
   ]
  },
  {
   "cell_type": "code",
   "execution_count": 30,
   "id": "c4bc409e",
   "metadata": {},
   "outputs": [
    {
     "data": {
      "text/plain": [
       "array([-12.65986096, -11.17806023, -10.64322894, ...,   4.5011328 ,\n",
       "         4.22727367,   3.92158919], shape=(1138,))"
      ]
     },
     "execution_count": 30,
     "metadata": {},
     "output_type": "execute_result"
    }
   ],
   "source": [
    "# Convert prices from DataFrame to NumPy arrays\n",
    "X = close[symbol1].to_numpy()\n",
    "Y = close[symbol2].to_numpy()\n",
    "# Add constant term for regression\n",
    "X = np.column_stack((np.ones(X.shape[0]), X))\n",
    "# Regress Y on X to find beta_hat\n",
    "beta_hat = np.linalg.inv(X.T @ X) @ X.T @ Y\n",
    "# Calculate the Residuals (spread)\n",
    "Y_hat = X @ beta_hat\n",
    "spread = Y - Y_hat\n",
    "spread"
   ]
  },
  {
   "cell_type": "markdown",
   "id": "62d20b37",
   "metadata": {},
   "source": [
    "## Plot Residuals"
   ]
  },
  {
   "cell_type": "code",
   "execution_count": 31,
   "id": "84086915",
   "metadata": {},
   "outputs": [
    {
     "data": {
      "image/png": "[encoded data removed]",
      "text/plain": [
       "<Figure size 1200x600 with 1 Axes>"
      ]
     },
     "metadata": {},
     "output_type": "display_data"
    }
   ],
   "source": [
    "plt.figure(figsize=(12, 6))\n",
    "plt.plot(spread, label='Spread', color='blue')\n",
    "plt.axhline(spread.mean(), color='red', linestyle='--', label='Mean of Spread')\n",
    "plt.title(f'Spread between {symbol1} and {symbol2}')\n",
    "plt.xlabel('Date')\n",
    "plt.ylabel('Spread')\n",
    "plt.legend()\n",
    "plt.show() "
   ]
  },
  {
   "cell_type": "markdown",
   "id": "c1e5751d",
   "metadata": {},
   "source": [
    "## Perform Augmented Dickey-Fuller Test"
   ]
  },
  {
   "cell_type": "code",
   "execution_count": null,
   "id": "d1914fad",
   "metadata": {},
   "outputs": [
    {
     "name": "stdout",
     "output_type": "stream",
     "text": [
      "ADF Test Statistic: -3.1127749099483064\n",
      "p-value: 0.0256221195772462\n"
     ]
    }
   ],
   "source": [
    "adfuller_result = adfuller(spread)\n",
    "# Print the ADF test statistic and p-value\n",
    "print(f\"ADF Test Statistic: {adfuller_result[0]}\")\n",
    "print(f\"p-value: {adfuller_result[1]}\")"
   ]
  }
 ],
 "metadata": {
  "kernelspec": {
   "display_name": ".venv",
   "language": "python",
   "name": "python3"
  },
  "language_info": {
   "codemirror_mode": {
    "name": "ipython",
    "version": 3
   },
   "file_extension": ".py",
   "mimetype": "text/x-python",
   "name": "python",
   "nbconvert_exporter": "python",
   "pygments_lexer": "ipython3",
   "version": "3.13.1"
  }
 },
 "nbformat": 4,
 "nbformat_minor": 5
}
