{
 "cells": [
  {
   "cell_type": "code",
   "execution_count": 8,
   "id": "ce268edc",
   "metadata": {},
   "outputs": [
    {
     "name": "stderr",
     "output_type": "stream",
     "text": [
      "Matplotlib is building the font cache; this may take a moment.\n"
     ]
    }
   ],
   "source": [
    "import pandas as pd\n",
    "import numpy as np\n",
    "import yfinance as yf\n",
    "import matplotlib.pyplot as plt"
   ]
  },
  {
   "cell_type": "markdown",
   "id": "bdbcf9b2",
   "metadata": {},
   "source": [
    "## Set Parameters\n",
    "\n",
    "NOTE: 1m data is only retrievable for the last 7 days, and any interval <1d is only for the last 60 days"
   ]
  },
  {
   "cell_type": "code",
   "execution_count": 11,
   "id": "dfdeb85f",
   "metadata": {},
   "outputs": [],
   "source": [
    "startDate = \"2010-01-01\"\n",
    "endDate = \"2025-01-01\"\n",
    "symbol1 = \"AAPL\"\n",
    "symbol2 = \"MSFT\"\n",
    "timeInterval = \"1d\""
   ]
  },
  {
   "cell_type": "markdown",
   "id": "50949c6f",
   "metadata": {},
   "source": [
    "## Setup Data"
   ]
  },
  {
   "cell_type": "code",
   "execution_count": 13,
   "id": "e22b9d4b",
   "metadata": {},
   "outputs": [
    {
     "name": "stderr",
     "output_type": "stream",
     "text": [
      "[*********************100%***********************]  2 of 2 completed\n"
     ]
    },
    {
     "data": {
      "text/html": [
       "<div>\n",
       "<style scoped>\n",
       "    .dataframe tbody tr th:only-of-type {\n",
       "        vertical-align: middle;\n",
       "    }\n",
       "\n",
       "    .dataframe tbody tr th {\n",
       "        vertical-align: top;\n",
       "    }\n",
       "\n",
       "    .dataframe thead th {\n",
       "        text-align: right;\n",
       "    }\n",
       "</style>\n",
       "<table border=\"1\" class=\"dataframe\">\n",
       "  <thead>\n",
       "    <tr style=\"text-align: right;\">\n",
       "      <th>Ticker</th>\n",
       "      <th>AAPL</th>\n",
       "      <th>MSFT</th>\n",
       "    </tr>\n",
       "    <tr>\n",
       "      <th>Date</th>\n",
       "      <th></th>\n",
       "      <th></th>\n",
       "    </tr>\n",
       "  </thead>\n",
       "  <tbody>\n",
       "    <tr>\n",
       "      <th>2010-01-04</th>\n",
       "      <td>6.431899</td>\n",
       "      <td>23.211437</td>\n",
       "    </tr>\n",
       "    <tr>\n",
       "      <th>2010-01-05</th>\n",
       "      <td>6.443016</td>\n",
       "      <td>23.218941</td>\n",
       "    </tr>\n",
       "    <tr>\n",
       "      <th>2010-01-06</th>\n",
       "      <td>6.340533</td>\n",
       "      <td>23.076445</td>\n",
       "    </tr>\n",
       "    <tr>\n",
       "      <th>2010-01-07</th>\n",
       "      <td>6.328811</td>\n",
       "      <td>22.836456</td>\n",
       "    </tr>\n",
       "    <tr>\n",
       "      <th>2010-01-08</th>\n",
       "      <td>6.370885</td>\n",
       "      <td>22.993952</td>\n",
       "    </tr>\n",
       "  </tbody>\n",
       "</table>\n",
       "</div>"
      ],
      "text/plain": [
       "Ticker          AAPL       MSFT\n",
       "Date                           \n",
       "2010-01-04  6.431899  23.211437\n",
       "2010-01-05  6.443016  23.218941\n",
       "2010-01-06  6.340533  23.076445\n",
       "2010-01-07  6.328811  22.836456\n",
       "2010-01-08  6.370885  22.993952"
      ]
     },
     "execution_count": 13,
     "metadata": {},
     "output_type": "execute_result"
    }
   ],
   "source": [
    "# Download data for two stocks between specified dates with specified interval\n",
    "data = yf.download([symbol1, symbol2], start=startDate, end=endDate, interval=timeInterval, auto_adjust=True)\n",
    "# Get adjusted close prices\n",
    "close = data[\"Close\"]\n",
    "close.head()"
   ]
  }
 ],
 "metadata": {
  "kernelspec": {
   "display_name": ".venv",
   "language": "python",
   "name": "python3"
  },
  "language_info": {
   "codemirror_mode": {
    "name": "ipython",
    "version": 3
   },
   "file_extension": ".py",
   "mimetype": "text/x-python",
   "name": "python",
   "nbconvert_exporter": "python",
   "pygments_lexer": "ipython3",
   "version": "3.13.1"
  }
 },
 "nbformat": 4,
 "nbformat_minor": 5
}
